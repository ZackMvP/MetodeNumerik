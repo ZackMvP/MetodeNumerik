{
 "cells": [
  {
   "cell_type": "markdown",
   "metadata": {},
   "source": [
    "# Metode Numerik\n",
    "## Semester 3, Teknik Informatika, Fakultas Ilmu Komputer\n",
    "File ini merupakan kumpulan kode yang digunakan selama menjalankan kuliah materi Metode Numerik pada semester 3"
   ]
  },
  {
   "cell_type": "markdown",
   "metadata": {},
   "source": [
    "# Kode penyelesaian soal metode numerik Non-Linear"
   ]
  },
  {
   "cell_type": "markdown",
   "metadata": {},
   "source": [
    "## Metode Biseksi\n",
    "### Deskripsi\n",
    "Suatu range x = [a,b] mempunyai akar bila f(a) dan f(b) berlawanan tanda atau memenuhi f(a),f(b)<0\n",
    "### Tahapan\n",
    "**Tahap 1**\n",
    "Pilih a dan b sedemikian hingga f(a) * f(b) < 0\n",
    "**Tahap 2**\n",
    "Hitung nilai tengah dari a dan b dengan rumus c = (a+b)/2\n",
    "**Tahap 3**\n",
    "Jika:\n",
    "1.f(a) * f(c) > 0, maka a = c, kembali ke tahap 2\n",
    "2.f(a) * f(c) < 0, maka b = c, kembali ke tahap 2\n",
    "3.f(a) * f(c) = 0, maka akar berhasil ditentukan. Program selesai"
   ]
  },
  {
   "cell_type": "code",
   "execution_count": 13,
   "metadata": {},
   "outputs": [
    {
     "name": "stdout",
     "output_type": "stream",
     "text": [
      "a\tb\t\tfx(a)\tfx(b)\tc\tfx(c)\n",
      "3.000\t1.000\t74.000\t-4.000\t2.000\t18.000\n",
      "3.000\t2.000\t74.000\t18.000\t2.500\t39.688\n",
      "2.500\t2.000\t39.688\t18.000\t2.250\t27.582\n",
      "2.250\t2.000\t27.582\t18.000\t2.125\t22.510\n",
      "2.125\t2.000\t22.510\t18.000\t2.062\t20.189\n",
      "2.062\t2.000\t20.189\t18.000\t2.031\t19.078\n",
      "2.031\t2.000\t19.078\t18.000\t2.016\t18.535\n",
      "2.016\t2.000\t18.535\t18.000\t2.008\t18.267\n",
      "2.008\t2.000\t18.267\t18.000\t2.004\t18.133\n",
      "2.004\t2.000\t18.133\t18.000\t2.002\t18.066\n",
      "Akar persamaan adalah 2.002\n"
     ]
    }
   ],
   "source": [
    "#Implementasi\n",
    "def biseksi(fx):\n",
    "    a = float(input(\"Masukkan a: \"))\n",
    "    b = float(input(\"Masukkan b: \"))\n",
    "    c = a\n",
    "    print(\"a\\tb\\tfx(a)\\tfx(b)\\tc\\tfx(c)\")\n",
    "    if(fx(a)*fx(b) < 0):\n",
    "        i = 0\n",
    "        while(abs(fx(a)*fx(b)) > 0.0001 and i < 10):\n",
    "            c = (a+b)/2\n",
    "            print(f'{a:.3f}\\t{b:.3f}\\t{fx(a):.3f}\\t{fx(b):.3f}\\t{c:.3f}\\t{fx(c):.3f}')\n",
    "            if (fx(a)*fx(b) > 0):\n",
    "                a = c\n",
    "            else:\n",
    "                b = c\n",
    "            i+=1\n",
    "        print(f'Akar persamaan adalah {c:.3f}')\n",
    "    else:\n",
    "        print('Tebakan awal a dan b salah')\n",
    "\n",
    "fx = lambda x: x**4 - 3*(x**3) + 10*(x**2) - 2*x - 10.0\n",
    "biseksi(fx)"
   ]
  }
 ],
 "metadata": {
  "kernelspec": {
   "display_name": "Python 3",
   "language": "python",
   "name": "python3"
  },
  "language_info": {
   "codemirror_mode": {
    "name": "ipython",
    "version": 3
   },
   "file_extension": ".py",
   "mimetype": "text/x-python",
   "name": "python",
   "nbconvert_exporter": "python",
   "pygments_lexer": "ipython3",
   "version": "3.11.2"
  }
 },
 "nbformat": 4,
 "nbformat_minor": 2
}
